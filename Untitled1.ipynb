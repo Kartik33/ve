{
 "cells": [
  {
   "cell_type": "code",
   "execution_count": 1,
   "metadata": {},
   "outputs": [],
   "source": [
    "%run init_table"
   ]
  },
  {
   "cell_type": "code",
   "execution_count": 2,
   "metadata": {},
   "outputs": [
    {
     "data": {
      "text/plain": [
       "array([[[0.48813759, 0.41545786],\n",
       "        [0.67966374, 0.86380273]],\n",
       "\n",
       "       [[0.75879398, 0.78896779],\n",
       "        [0.17089946, 0.26983417]]])"
      ]
     },
     "execution_count": 2,
     "metadata": {},
     "output_type": "execute_result"
    }
   ],
   "source": [
    "t1.table"
   ]
  },
  {
   "cell_type": "code",
   "execution_count": 3,
   "metadata": {},
   "outputs": [],
   "source": [
    "tables = [t1,t2,t3,t4]\n",
    "def gen_headings(tables):\n",
    "    li = []\n",
    "    for i in tables:\n",
    "        li.extend(i.headings)\n",
    "    h = set(li)\n",
    "    li = {}\n",
    "    for i in h:\n",
    "        x = headings(i)\n",
    "        x.linked_tables = set()\n",
    "        for j in tables:\n",
    "            if i in j.headings:\n",
    "                x.linked_tables.add(j)\n",
    "                x.domain = 2\n",
    "        li[i] = x\n",
    "    return li\n",
    "\n",
    "headings_li = gen_headings(tables)"
   ]
  },
  {
   "cell_type": "code",
   "execution_count": 4,
   "metadata": {},
   "outputs": [
    {
     "name": "stdout",
     "output_type": "stream",
     "text": [
      "ABC\n",
      "AB\n",
      "ABC\n",
      "BC\n",
      "CD\n",
      "CD\n",
      "ABC\n",
      "BC\n",
      "AB\n"
     ]
    }
   ],
   "source": [
    "for i in headings_li:\n",
    "    for j in headings_li[i].linked_tables:\n",
    "        print(j.name)\n",
    "        pass"
   ]
  },
  {
   "cell_type": "code",
   "execution_count": 5,
   "metadata": {},
   "outputs": [],
   "source": [
    "e_v = \"B\"\n",
    "temp_tables = []\n",
    "for i in headings_li:\n",
    "    if headings_li[i].name == e_v:\n",
    "        temp_tables = headings_li[i].linked_tables\n",
    "        break"
   ]
  },
  {
   "cell_type": "code",
   "execution_count": 6,
   "metadata": {},
   "outputs": [
    {
     "name": "stdout",
     "output_type": "stream",
     "text": [
      "ABC [[[0.48813759 0.41545786]\n",
      "  [0.67966374 0.86380273]]\n",
      "\n",
      " [[0.75879398 0.78896779]\n",
      "  [0.17089946 0.26983417]]] \n",
      "---- \n",
      "BC [[0.71340983 0.90458268]\n",
      " [0.74668091 0.90624095]] \n",
      "---- \n",
      "AB [[0.63272423 0.73630701]\n",
      " [0.01801144 0.30414567]] \n",
      "---- \n"
     ]
    }
   ],
   "source": [
    "for i in temp_tables:\n",
    "    print(i.name, i.table , \"\\n---- \")"
   ]
  },
  {
   "cell_type": "code",
   "execution_count": 7,
   "metadata": {},
   "outputs": [],
   "source": [
    "def __init_factor(temp_tables, headings_li):\n",
    "    temp = []\n",
    "    for i in temp_tables:\n",
    "        temp.extend(i.headings)\n",
    "    temp = set(temp)\n",
    "    li = []\n",
    "    for i in temp:\n",
    "        li.append(headings_li[i])\n",
    "        \n",
    "    dimen = []\n",
    "    for i in li:\n",
    "        dimen.append(i.domain)\n",
    "    grid = np.ndindex(tuple(dimen))\n",
    "    factor = np.array(dimen)\n",
    "    temp_li = {}\n",
    "\n",
    "    for i in temp_tables:\n",
    "        temp_li[i] = []\n",
    "    for i in grid:\n",
    "        x = {}\n",
    "        print(i)\n",
    "        for j,a in enumerate(li):\n",
    "            x[a.name] = i[j]\n",
    "        for j,a in enumerate(temp_tables):\n",
    "            index = []\n",
    "            for k in a.headings:\n",
    "                index.append(x[k])\n",
    "            temp_li[a].append(a.table[tuple(index)])\n",
    "    return temp_li\n",
    "    \n",
    "grid , factor, temp_heading_li = __init_factor(temp_tables, headings_li)"
   ]
  },
  {
   "cell_type": "code",
   "execution_count": 8,
   "metadata": {},
   "outputs": [
    {
     "name": "stdout",
     "output_type": "stream",
     "text": [
      "A\n",
      "C\n",
      "B\n"
     ]
    }
   ],
   "source": [
    "\n",
    "    \n",
    "for i in temp_heading_li:\n",
    "    print(i.name)"
   ]
  },
  {
   "cell_type": "code",
   "execution_count": 9,
   "metadata": {},
   "outputs": [
    {
     "name": "stdout",
     "output_type": "stream",
     "text": [
      "A\n",
      "C\n",
      "D\n",
      "B\n"
     ]
    }
   ],
   "source": [
    "for i in headings_li:\n",
    "    print(headings_li[i].name)"
   ]
  },
  {
   "cell_type": "code",
   "execution_count": 11,
   "metadata": {},
   "outputs": [
    {
     "name": "stdout",
     "output_type": "stream",
     "text": [
      "ABC\n",
      "[0.488137588328869, 0.6796637396020487, 0.4154578584786248, 0.8638027303040045, 0.7587939768228017, 0.17089945937209017, 0.7889677871256084, 0.26983417408716515] \n",
      "\n",
      "BC\n",
      "[0.7134098315971923, 0.7466809098335049, 0.9045826830273597, 0.9062409546796559, 0.7134098315971923, 0.7466809098335049, 0.9045826830273597, 0.9062409546796559] \n",
      "\n",
      "AB\n",
      "[0.6327242338766694, 0.7363070071312655, 0.6327242338766694, 0.7363070071312655, 0.018011437081708492, 0.304145673375653, 0.018011437081708492, 0.304145673375653] \n",
      "\n"
     ]
    }
   ],
   "source": [
    "for i in temp_li:\n",
    "    print(i.name)\n",
    "    print(temp_li[i] , \"\\n\")"
   ]
  },
  {
   "cell_type": "code",
   "execution_count": null,
   "metadata": {},
   "outputs": [],
   "source": []
  }
 ],
 "metadata": {
  "kernelspec": {
   "display_name": "Python 3",
   "language": "python",
   "name": "python3"
  },
  "language_info": {
   "codemirror_mode": {
    "name": "ipython",
    "version": 3
   },
   "file_extension": ".py",
   "mimetype": "text/x-python",
   "name": "python",
   "nbconvert_exporter": "python",
   "pygments_lexer": "ipython3",
   "version": "3.7.5"
  }
 },
 "nbformat": 4,
 "nbformat_minor": 2
}
