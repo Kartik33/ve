{
 "cells": [
  {
   "cell_type": "code",
   "execution_count": 1,
   "metadata": {},
   "outputs": [],
   "source": [
    "%run init_table"
   ]
  },
  {
   "cell_type": "code",
   "execution_count": 2,
   "metadata": {},
   "outputs": [
    {
     "data": {
      "text/plain": [
       "array([[[0.66721389, 0.68636437],\n",
       "        [0.56564757, 0.35648622]],\n",
       "\n",
       "       [[0.8888339 , 0.67610686],\n",
       "        [0.07654907, 0.45794339]]])"
      ]
     },
     "execution_count": 2,
     "metadata": {},
     "output_type": "execute_result"
    }
   ],
   "source": [
    "t1.table"
   ]
  },
  {
   "cell_type": "code",
   "execution_count": 3,
   "metadata": {
    "collapsed": true
   },
   "outputs": [],
   "source": [
    "tables = [t1,t2,t3,t4]\n",
    "def gen_headings(tables):\n",
    "    li = []\n",
    "    for i in tables:\n",
    "        li.extend(i.headings)\n",
    "    h = set(li)\n",
    "    li = {}\n",
    "    for i in h:\n",
    "        x = headings(i)\n",
    "        x.linked_tables = set()\n",
    "        for j in tables:\n",
    "            if i in j.headings:\n",
    "                x.linked_tables.add(j)\n",
    "                x.domain = 2\n",
    "        li[i] = x\n",
    "    return li\n",
    "\n",
    "\n",
    "headings_li = gen_headings(tables)"
   ]
  },
  {
   "cell_type": "code",
   "execution_count": 11,
   "metadata": {},
   "outputs": [
    {
     "name": "stdout",
     "output_type": "stream",
     "text": [
      "BC\n",
      "ABC\n",
      "AB\n",
      "ABC\n",
      "AB\n",
      "CD\n",
      "CD\n",
      "BC\n",
      "ABC\n"
     ]
    }
   ],
   "source": [
    "for i in headings_li:\n",
    "    for j in headings_li[i].linked_tables:\n",
    "        print(j.name)\n",
    "        pass"
   ]
  },
  {
   "cell_type": "code",
   "execution_count": 8,
   "metadata": {
    "collapsed": true
   },
   "outputs": [],
   "source": [
    "e_v = \"C\"\n",
    "temp_tables = []\n",
    "for i in headings_li:\n",
    "    if headings_li[i].name == e_v:\n",
    "        temp_tables = headings_li[i].linked_tables\n",
    "        break"
   ]
  },
  {
   "cell_type": "code",
   "execution_count": 9,
   "metadata": {},
   "outputs": [
    {
     "name": "stdout",
     "output_type": "stream",
     "text": [
      "CD [[0.58057383 0.94534744]\n",
      " [0.38245114 0.24123465]] \n",
      "---- \n",
      "BC [[0.3367497  0.31492307]\n",
      " [0.78457439 0.88427899]] \n",
      "---- \n",
      "ABC [[[0.66721389 0.68636437]\n",
      "  [0.56564757 0.35648622]]\n",
      "\n",
      " [[0.8888339  0.67610686]\n",
      "  [0.07654907 0.45794339]]] \n",
      "---- \n"
     ]
    }
   ],
   "source": [
    "for i in temp_tables:\n",
    "    print(i.name, i.table , \"\\n---- \")"
   ]
  },
  {
   "cell_type": "code",
   "execution_count": 42,
   "metadata": {},
   "outputs": [
    {
     "name": "stdout",
     "output_type": "stream",
     "text": [
      "[0.5805738259928985, 0.9453474374359159, 0.38245113557469523, 0.24123465141486644, 0.5805738259928985, 0.9453474374359159, 0.38245113557469523, 0.24123465141486644, 0.5805738259928985, 0.9453474374359159, 0.38245113557469523, 0.24123465141486644, 0.5805738259928985, 0.9453474374359159, 0.38245113557469523, 0.24123465141486644] \n",
      "\n",
      "[0.3367497036795779, 0.3149230740333998, 0.3367497036795779, 0.3149230740333998, 0.3367497036795779, 0.3149230740333998, 0.3367497036795779, 0.3149230740333998, 0.7845743932188787, 0.8842789897996924, 0.7845743932188787, 0.8842789897996924, 0.7845743932188787, 0.8842789897996924, 0.7845743932188787, 0.8842789897996924] \n",
      "\n",
      "[0.6672138905219336, 0.6863643693457956, 0.6672138905219336, 0.6863643693457956, 0.8888339031675415, 0.6761068620865194, 0.8888339031675415, 0.6761068620865194, 0.5656475722095768, 0.3564862213260217, 0.5656475722095768, 0.3564862213260217, 0.07654907213971085, 0.4579433915499058, 0.07654907213971085, 0.4579433915499058] \n",
      "\n"
     ]
    }
   ],
   "source": [
    "def __init_factor(temp_tables, headings_li):\n",
    "    temp = []\n",
    "    for i in temp_tables:\n",
    "        temp.extend(i.headings)\n",
    "    temp = set(temp)\n",
    "    li = []\n",
    "    for i in temp:\n",
    "        li.append(headings_li[i])\n",
    "        \n",
    "    dimen = []\n",
    "    for i in li:\n",
    "        dimen.append(i.domain)\n",
    "    grid = np.ndindex(tuple(dimen))\n",
    "    factor = np.array(dimen)\n",
    "    return grid , factor\n",
    "    \n",
    "grid , factor = __init_factor(temp_tables, headings_li)\n",
    "\n",
    "temp_li = {}\n",
    "\n",
    "for i in temp_tables:\n",
    "    #print(i.name)\n",
    "    temp_li[i] = []\n",
    "#print(temp_li)\n",
    "for i in grid:\n",
    "    x = {}\n",
    "    for j,a in enumerate(headings_li):\n",
    "        x[headings_li[a].name] = i[j]\n",
    "    for j,a in enumerate(temp_tables):\n",
    "        index = []\n",
    "        for k in a.headings:\n",
    "            index.append(x[k])\n",
    "        #print(index)\n",
    "        #print(a.table[tuple(index)])\n",
    "        temp_li[a].append(a.table[tuple(index)])\n",
    "        \n",
    "for i in temp_li:\n",
    "    print(temp_li[i] , \"\\n\")\n",
    "#print(x)\n",
    "    #for j,a in enumerate(temp_)"
   ]
  },
  {
   "cell_type": "code",
   "execution_count": 32,
   "metadata": {},
   "outputs": [],
   "source": [
    "xyz = np.random.rand(2,2)"
   ]
  },
  {
   "cell_type": "code",
   "execution_count": 39,
   "metadata": {},
   "outputs": [
    {
     "data": {
      "text/plain": [
       "0.11790586675468717"
      ]
     },
     "execution_count": 39,
     "metadata": {},
     "output_type": "execute_result"
    }
   ],
   "source": [
    "xyz[tuple([0,0])]"
   ]
  },
  {
   "cell_type": "code",
   "execution_count": 35,
   "metadata": {
    "collapsed": true
   },
   "outputs": [],
   "source": [
    "abc = (1,2,3,4)"
   ]
  },
  {
   "cell_type": "code",
   "execution_count": 37,
   "metadata": {},
   "outputs": [
    {
     "ename": "SyntaxError",
     "evalue": "can't use starred expression here (<ipython-input-37-46b66812bed8>, line 1)",
     "output_type": "error",
     "traceback": [
      "\u001b[0;36m  File \u001b[0;32m\"<ipython-input-37-46b66812bed8>\"\u001b[0;36m, line \u001b[0;32m1\u001b[0m\n\u001b[0;31m    *abc\u001b[0m\n\u001b[0m        ^\u001b[0m\n\u001b[0;31mSyntaxError\u001b[0m\u001b[0;31m:\u001b[0m can't use starred expression here\n"
     ]
    }
   ],
   "source": [
    "*abc"
   ]
  },
  {
   "cell_type": "code",
   "execution_count": null,
   "metadata": {
    "collapsed": true
   },
   "outputs": [],
   "source": []
  }
 ],
 "metadata": {
  "kernelspec": {
   "display_name": "Python 3",
   "language": "python",
   "name": "python3"
  },
  "language_info": {
   "codemirror_mode": {
    "name": "ipython",
    "version": 3
   },
   "file_extension": ".py",
   "mimetype": "text/x-python",
   "name": "python",
   "nbconvert_exporter": "python",
   "pygments_lexer": "ipython3",
   "version": "3.5.4"
  }
 },
 "nbformat": 4,
 "nbformat_minor": 2
}
