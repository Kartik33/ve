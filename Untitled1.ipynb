{
 "cells": [
  {
   "cell_type": "code",
   "execution_count": 20,
   "metadata": {},
   "outputs": [
    {
     "name": "stderr",
     "output_type": "stream",
     "text": [
      "ERROR:root:File `'init_table.py'` not found.\n"
     ]
    }
   ],
   "source": [
    "%run init_table"
   ]
  },
  {
   "cell_type": "code",
   "execution_count": 18,
   "metadata": {},
   "outputs": [
    {
     "data": {
      "text/plain": [
       "array([[[0.16503611, 0.89827468],\n",
       "        [0.62150883, 0.85102311]],\n",
       "\n",
       "       [[0.55296222, 0.47587732],\n",
       "        [0.02190327, 0.86482983]]])"
      ]
     },
     "execution_count": 18,
     "metadata": {},
     "output_type": "execute_result"
    }
   ],
   "source": [
    "t1.table"
   ]
  },
  {
   "cell_type": "code",
   "execution_count": 6,
   "metadata": {
    "collapsed": true
   },
   "outputs": [],
   "source": [
    "tables = [t1,t2,t3,t4]\n",
    "def gen_headings(tables):\n",
    "    li = []\n",
    "    for i in tables:\n",
    "        li.extend(i.headings)\n",
    "    h = set(li)\n",
    "    print(h)\n",
    "    li = {}\n",
    "    for i in h:\n",
    "        x = headings(i)\n",
    "        x.linked_tables = set()\n",
    "        for j in tables:\n",
    "            if i in j.headings:\n",
    "                x.linked_tables.add(j)\n",
    "                x.domain = 2\n",
    "        li[i] = x\n",
    "    return li\n",
    "\n",
    "headings_li = gen_headings(tables)"
   ]
  },
  {
   "cell_type": "code",
   "execution_count": 7,
   "metadata": {},
   "outputs": [
    {
     "name": "stdout",
     "output_type": "stream",
     "text": [
      "ABC\n",
      "CD\n",
      "BC\n",
      "ABC\n",
      "AB\n",
      "ABC\n",
      "AB\n",
      "BC\n",
      "CD\n"
     ]
    }
   ],
   "source": [
    "for i in headings_li:\n",
    "    for j in headings_li[i].linked_tables:\n",
    "        print(j.name)\n",
    "        pass"
   ]
  },
  {
   "cell_type": "code",
   "execution_count": 40,
   "metadata": {
    "collapsed": true
   },
   "outputs": [],
   "source": [
    "e_v = \"C\"\n",
    "temp_tables = []\n",
    "for i in headings_li:\n",
    "    if headings_li[i].name == e_v:\n",
    "        temp_tables = headings_li[i].linked_tables\n",
    "        break"
   ]
  },
  {
   "cell_type": "code",
   "execution_count": 41,
   "metadata": {},
   "outputs": [
    {
     "name": "stdout",
     "output_type": "stream",
     "text": [
      "ABC [[[0.6175122  0.69843052]\n",
      "  [0.5051848  0.90948681]]\n",
      "\n",
      " [[0.08471623 0.85688301]\n",
      "  [0.85441463 0.82401067]]] \n",
      "---- \n",
      "CD [[0.99173346 0.38708028]\n",
      " [0.85669518 0.73602055]] \n",
      "---- \n",
      "BC [[0.26457519 0.70500471]\n",
      " [0.79576867 0.73499484]] \n",
      "---- \n"
     ]
    }
   ],
   "source": [
    "for i in temp_tables:\n",
    "    print(i.name, i.table , \"\\n---- \")"
   ]
  },
  {
   "cell_type": "code",
   "execution_count": 42,
   "metadata": {},
   "outputs": [],
   "source": [
    "def __init_factor(temp_tables, headings_li):\n",
    "    temp = []\n",
    "    for i in temp_tables:\n",
    "        temp.extend(i.headings)\n",
    "    temp = set(temp)\n",
    "    li = []\n",
    "    for i in temp:\n",
    "        li.append(headings_li[i]) #variables \n",
    "        \n",
    "    dimen = []\n",
    "    for i in li:\n",
    "        dimen.append(i.domain) \n",
    "    grid = np.ndindex(tuple(dimen))\n",
    "    \n",
    "    temp_li = {}\n",
    "    s = {}\n",
    "    for i in temp_tables:\n",
    "        temp_li[i] = []\n",
    "    for i in grid:\n",
    "        x = {}\n",
    "        q = []\n",
    "        for j,a in enumerate(li):\n",
    "            x[a.name] = i[j]\n",
    "            if a.name != e_v:\n",
    "                q.append(i[j])\n",
    "        q = tuple(q)\n",
    "        if q in s:\n",
    "            s[q].append(i)\n",
    "        else:\n",
    "            s[q] = [i]\n",
    "        \n",
    "        for j,a in enumerate(temp_tables):\n",
    "            index = []\n",
    "            for k in a.headings:\n",
    "                index.append(x[k])\n",
    "            temp_li[a].append(a.table[tuple(index)])\n",
    "    return temp_li , dimen , s\n",
    "    \n",
    "temp_li , factor , s   = __init_factor(temp_tables, headings_li)"
   ]
  },
  {
   "cell_type": "code",
   "execution_count": 43,
   "metadata": {},
   "outputs": [
    {
     "name": "stdout",
     "output_type": "stream",
     "text": [
      "ABC\n",
      "[0.6175122003822093, 0.6984305218282811, 0.6175122003822093, 0.6984305218282811, 0.5051847973771375, 0.909486810052784, 0.5051847973771375, 0.909486810052784, 0.0847162278728556, 0.8568830110508941, 0.0847162278728556, 0.8568830110508941, 0.854414633521659, 0.8240106749373693, 0.854414633521659, 0.8240106749373693] \n",
      "\n",
      "CD\n",
      "[0.9917334585192497, 0.38708027815291557, 0.8566951830865491, 0.7360205489396004, 0.9917334585192497, 0.38708027815291557, 0.8566951830865491, 0.7360205489396004, 0.9917334585192497, 0.38708027815291557, 0.8566951830865491, 0.7360205489396004, 0.9917334585192497, 0.38708027815291557, 0.8566951830865491, 0.7360205489396004] \n",
      "\n",
      "BC\n",
      "[0.2645751898941221, 0.7050047075685152, 0.2645751898941221, 0.7050047075685152, 0.7957686715336061, 0.7349948356193153, 0.7957686715336061, 0.7349948356193153, 0.2645751898941221, 0.7050047075685152, 0.2645751898941221, 0.7050047075685152, 0.7957686715336061, 0.7349948356193153, 0.7957686715336061, 0.7349948356193153] \n",
      "\n"
     ]
    }
   ],
   "source": [
    "for i in temp_li:\n",
    "    print(i.name)\n",
    "    print(temp_li[i] , \"\\n\")"
   ]
  },
  {
   "cell_type": "code",
   "execution_count": 44,
   "metadata": {},
   "outputs": [
    {
     "data": {
      "text/plain": [
       "{(0, 0, 0): [(0, 0, 0, 0), (0, 0, 0, 1)],\n",
       " (0, 0, 1): [(0, 0, 1, 0), (0, 0, 1, 1)],\n",
       " (0, 1, 0): [(0, 1, 0, 0), (0, 1, 0, 1)],\n",
       " (0, 1, 1): [(0, 1, 1, 0), (0, 1, 1, 1)],\n",
       " (1, 0, 0): [(1, 0, 0, 0), (1, 0, 0, 1)],\n",
       " (1, 0, 1): [(1, 0, 1, 0), (1, 0, 1, 1)],\n",
       " (1, 1, 0): [(1, 1, 0, 0), (1, 1, 0, 1)],\n",
       " (1, 1, 1): [(1, 1, 1, 0), (1, 1, 1, 1)]}"
      ]
     },
     "execution_count": 44,
     "metadata": {},
     "output_type": "execute_result"
    }
   ],
   "source": [
    "s"
   ]
  },
  {
   "cell_type": "code",
   "execution_count": 45,
   "metadata": {},
   "outputs": [
    {
     "name": "stdout",
     "output_type": "stream",
     "text": [
      "[(0, 1, 1, 0), (0, 1, 1, 1)]\n",
      "[(0, 0, 0, 0), (0, 0, 0, 1)]\n",
      "[(1, 1, 0, 0), (1, 1, 0, 1)]\n",
      "[(1, 0, 0, 0), (1, 0, 0, 1)]\n",
      "[(0, 1, 0, 0), (0, 1, 0, 1)]\n",
      "[(0, 0, 1, 0), (0, 0, 1, 1)]\n",
      "[(1, 1, 1, 0), (1, 1, 1, 1)]\n",
      "[(1, 0, 1, 0), (1, 0, 1, 1)]\n"
     ]
    }
   ],
   "source": [
    "for i in s:\n",
    "    print(s[i])"
   ]
  },
  {
   "cell_type": "code",
   "execution_count": null,
   "metadata": {
    "collapsed": true
   },
   "outputs": [],
   "source": []
  }
 ],
 "metadata": {
  "kernelspec": {
   "display_name": "Python 3",
   "language": "python",
   "name": "python3"
  },
  "language_info": {
   "codemirror_mode": {
    "name": "ipython",
    "version": 3
   },
   "file_extension": ".py",
   "mimetype": "text/x-python",
   "name": "python",
   "nbconvert_exporter": "python",
   "pygments_lexer": "ipython3",
   "version": "3.7.5"
  }
 },
 "nbformat": 4,
 "nbformat_minor": 2
}
