{
 "cells": [
  {
   "cell_type": "code",
   "execution_count": null,
   "metadata": {},
   "outputs": [],
   "source": []
  },
  {
   "cell_type": "code",
   "execution_count": 47,
   "metadata": {},
   "outputs": [],
   "source": [
    "%run init_table"
   ]
  },
  {
   "cell_type": "code",
   "execution_count": 48,
   "metadata": {},
   "outputs": [],
   "source": [
    "tables = [t1,t2,t3,t4]\n",
    "def gen_headings(tables):\n",
    "    li = []\n",
    "    for i in tables:\n",
    "        li.extend(i.headings)\n",
    "    h = set(li)\n",
    "    li = {}\n",
    "    for i in h:\n",
    "        x = headings(i)\n",
    "        x.linked_tables = set()\n",
    "        for j in tables:\n",
    "            if i in j.headings:\n",
    "                x.linked_tables.add(j)\n",
    "                x.domain = 2\n",
    "        li[i] = x\n",
    "    return li\n",
    "\n",
    "\n",
    "headings_li = gen_headings(tables)"
   ]
  },
  {
   "cell_type": "code",
   "execution_count": 49,
   "metadata": {},
   "outputs": [
    {
     "name": "stdout",
     "output_type": "stream",
     "text": [
      "A\n",
      "AB\n",
      "ABC\n",
      "B\n",
      "AB\n",
      "BC\n",
      "ABC\n",
      "C\n",
      "BC\n",
      "ABC\n",
      "CD\n",
      "D\n",
      "CD\n"
     ]
    }
   ],
   "source": [
    "for i in li:\n",
    "    print(i.name)\n",
    "    for j in i.linked_tables:\n",
    "        print(j.name)"
   ]
  },
  {
   "cell_type": "code",
   "execution_count": 50,
   "metadata": {},
   "outputs": [],
   "source": [
    "e_v = \"C\"\n",
    "temp_tables = []\n",
    "for i in li:\n",
    "    if i.name == e_v:\n",
    "        temp_tables = i.linked_tables\n",
    "        break"
   ]
  },
  {
   "cell_type": "code",
   "execution_count": 51,
   "metadata": {},
   "outputs": [
    {
     "name": "stdout",
     "output_type": "stream",
     "text": [
      "BC\n",
      "ABC\n",
      "CD\n"
     ]
    }
   ],
   "source": [
    "for i in temp_tables:\n",
    "    print(i.name)"
   ]
  },
  {
   "cell_type": "code",
   "execution_count": 58,
   "metadata": {},
   "outputs": [
    {
     "name": "stdout",
     "output_type": "stream",
     "text": [
      "(0, 0, 0, 0)\n",
      "(0, 0, 0, 1)\n",
      "(0, 0, 1, 0)\n",
      "(0, 0, 1, 1)\n",
      "(0, 1, 0, 0)\n",
      "(0, 1, 0, 1)\n",
      "(0, 1, 1, 0)\n",
      "(0, 1, 1, 1)\n",
      "(1, 0, 0, 0)\n",
      "(1, 0, 0, 1)\n",
      "(1, 0, 1, 0)\n",
      "(1, 0, 1, 1)\n",
      "(1, 1, 0, 0)\n",
      "(1, 1, 0, 1)\n",
      "(1, 1, 1, 0)\n",
      "(1, 1, 1, 1)\n"
     ]
    }
   ],
   "source": [
    "def __init_factor(temp_tables, headings_li):\n",
    "    temp = []\n",
    "    for i in temp_tables:\n",
    "        temp.extend(i.headings)\n",
    "        \n",
    "    temp = set(temp)\n",
    "    li = []\n",
    "    for i in temp:\n",
    "        li.append(headings_li[i])\n",
    "    return li\n",
    "a = __init_factor(temp_tables, headings_li)\n",
    "\n",
    "dimen = []\n",
    "for i in a:\n",
    "    dimen.append(i.domain)\n",
    "\n",
    "grid = np.ndindex(tuple(dimen))\n",
    "for i in grid:\n",
    "    print(i)"
   ]
  },
  {
   "cell_type": "code",
   "execution_count": 27,
   "metadata": {},
   "outputs": [
    {
     "data": {
      "text/plain": [
       "[<classes.headings at 0x11de63e10>,\n",
       " <classes.headings at 0x11de63ef0>,\n",
       " <classes.headings at 0x11de63e80>,\n",
       " <classes.headings at 0x11de63f98>]"
      ]
     },
     "execution_count": 27,
     "metadata": {},
     "output_type": "execute_result"
    }
   ],
   "source": []
  },
  {
   "cell_type": "code",
   "execution_count": null,
   "metadata": {},
   "outputs": [],
   "source": []
  }
 ],
 "metadata": {
  "kernelspec": {
   "display_name": "Python 3",
   "language": "python",
   "name": "python3"
  },
  "language_info": {
   "codemirror_mode": {
    "name": "ipython",
    "version": 3
   },
   "file_extension": ".py",
   "mimetype": "text/x-python",
   "name": "python",
   "nbconvert_exporter": "python",
   "pygments_lexer": "ipython3",
   "version": "3.7.3"
  }
 },
 "nbformat": 4,
 "nbformat_minor": 2
}
