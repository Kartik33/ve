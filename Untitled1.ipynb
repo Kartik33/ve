{
 "cells": [
  {
   "cell_type": "code",
   "execution_count": 20,
   "metadata": {},
   "outputs": [],
   "source": [
    "%run init_table"
   ]
  },
  {
   "cell_type": "code",
   "execution_count": 21,
   "metadata": {},
   "outputs": [
    {
     "data": {
      "text/plain": [
       "array([[[0.23758715, 0.95439382],\n",
       "        [0.49427265, 0.52245729]],\n",
       "\n",
       "       [[0.46074368, 0.16799586],\n",
       "        [0.13734749, 0.21118032]]])"
      ]
     },
     "execution_count": 21,
     "metadata": {},
     "output_type": "execute_result"
    }
   ],
   "source": [
    "t1.table"
   ]
  },
  {
   "cell_type": "code",
   "execution_count": 22,
   "metadata": {},
   "outputs": [],
   "source": [
    "tables = [t1,t2,t3,t4]\n",
    "def gen_headings(tables):\n",
    "    li = []\n",
    "    for i in tables:\n",
    "        li.extend(i.headings)\n",
    "    h = set(li)\n",
    "    li = {}\n",
    "    for i in h:\n",
    "        x = headings(i)\n",
    "        x.linked_tables = set()\n",
    "        for j in tables:\n",
    "            if i in j.headings:\n",
    "                x.linked_tables.add(j)\n",
    "                x.domain = 2\n",
    "        li[i] = x\n",
    "    return li\n",
    "\n",
    "\n",
    "headings_li = gen_headings(tables)"
   ]
  },
  {
   "cell_type": "code",
   "execution_count": 23,
   "metadata": {},
   "outputs": [
    {
     "name": "stdout",
     "output_type": "stream",
     "text": [
      "CD\n",
      "AB\n",
      "ABC\n",
      "CD\n",
      "BC\n",
      "ABC\n",
      "BC\n",
      "AB\n",
      "ABC\n"
     ]
    }
   ],
   "source": [
    "for i in headings_li:\n",
    "    for j in headings_li[i].linked_tables:\n",
    "        print(j.name)\n",
    "        pass"
   ]
  },
  {
   "cell_type": "code",
   "execution_count": 24,
   "metadata": {},
   "outputs": [],
   "source": [
    "e_v = \"C\"\n",
    "temp_tables = []\n",
    "for i in headings_li:\n",
    "    if headings_li[i].name == e_v:\n",
    "        temp_tables = headings_li[i].linked_tables\n",
    "        break"
   ]
  },
  {
   "cell_type": "code",
   "execution_count": 25,
   "metadata": {},
   "outputs": [
    {
     "name": "stdout",
     "output_type": "stream",
     "text": [
      "CD [[0.0070285  0.73321495]\n",
      " [0.90613822 0.34905801]] \n",
      "---- \n",
      "BC [[0.80515712 0.33187583]\n",
      " [0.14602984 0.83608294]] \n",
      "---- \n",
      "ABC [[[0.23758715 0.95439382]\n",
      "  [0.49427265 0.52245729]]\n",
      "\n",
      " [[0.46074368 0.16799586]\n",
      "  [0.13734749 0.21118032]]] \n",
      "---- \n"
     ]
    }
   ],
   "source": [
    "for i in temp_tables:\n",
    "    print(i.name, i.table , \"\\n---- \")"
   ]
  },
  {
   "cell_type": "code",
   "execution_count": 26,
   "metadata": {},
   "outputs": [
    {
     "name": "stdout",
     "output_type": "stream",
     "text": [
      "CD\n",
      "[0.007028503507534367, 0.007028503507534367, 0.7332149484403175, 0.7332149484403175, 0.007028503507534367, 0.007028503507534367, 0.7332149484403175, 0.7332149484403175, 0.9061382177225684, 0.9061382177225684, 0.3490580133838326, 0.3490580133838326, 0.9061382177225684, 0.9061382177225684, 0.3490580133838326, 0.3490580133838326] \n",
      "\n",
      "BC\n",
      "[0.8051571238800379, 0.1460298380494056, 0.33187582535722926, 0.8360829355219408, 0.8051571238800379, 0.1460298380494056, 0.33187582535722926, 0.8360829355219408, 0.8051571238800379, 0.1460298380494056, 0.33187582535722926, 0.8360829355219408, 0.8051571238800379, 0.1460298380494056, 0.33187582535722926, 0.8360829355219408] \n",
      "\n",
      "ABC\n",
      "[0.23758715310186085, 0.49427265121903907, 0.9543938217780046, 0.5224572866205526, 0.4607436763347199, 0.13734748697849264, 0.16799585849423404, 0.21118031788449443, 0.23758715310186085, 0.49427265121903907, 0.9543938217780046, 0.5224572866205526, 0.4607436763347199, 0.13734748697849264, 0.16799585849423404, 0.21118031788449443] \n",
      "\n"
     ]
    }
   ],
   "source": [
    "def __init_factor(temp_tables, headings_li):\n",
    "    temp = []\n",
    "    for i in temp_tables:\n",
    "        temp.extend(i.headings)\n",
    "    temp = set(temp)\n",
    "    li = []\n",
    "    for i in temp:\n",
    "        li.append(headings_li[i])\n",
    "        \n",
    "    dimen = []\n",
    "    for i in li:\n",
    "        dimen.append(i.domain)\n",
    "    grid = np.ndindex(tuple(dimen))\n",
    "    factor = np.array(dimen)\n",
    "    return grid , factor\n",
    "    \n",
    "grid , factor = __init_factor(temp_tables, headings_li)\n",
    "\n",
    "temp_li = {}\n",
    "\n",
    "for i in temp_tables:\n",
    "    temp_li[i] = []\n",
    "\n",
    "for i in grid:\n",
    "    x = {}\n",
    "    for j,a in enumerate(headings_li):\n",
    "        x[headings_li[a].name] = i[j]\n",
    "    for j,a in enumerate(temp_tables):\n",
    "        index = []\n",
    "        for k in a.headings:\n",
    "            index.append(x[k])\n",
    "        temp_li[a].append(a.table[tuple(index)])\n",
    "        \n",
    "for i in temp_li:\n",
    "    print(i.name)\n",
    "    print(temp_li[i] , \"\\n\")\n"
   ]
  },
  {
   "cell_type": "code",
   "execution_count": null,
   "metadata": {},
   "outputs": [],
   "source": []
  }
 ],
 "metadata": {
  "kernelspec": {
   "display_name": "Python 3",
   "language": "python",
   "name": "python3"
  },
  "language_info": {
   "codemirror_mode": {
    "name": "ipython",
    "version": 3
   },
   "file_extension": ".py",
   "mimetype": "text/x-python",
   "name": "python",
   "nbconvert_exporter": "python",
   "pygments_lexer": "ipython3",
   "version": "3.7.5"
  }
 },
 "nbformat": 4,
 "nbformat_minor": 2
}
