{
 "cells": [
  {
   "cell_type": "code",
   "execution_count": 1,
   "metadata": {},
   "outputs": [],
   "source": [
    "%run init_table"
   ]
  },
  {
   "cell_type": "code",
   "execution_count": 2,
   "metadata": {},
   "outputs": [
    {
     "data": {
      "text/plain": [
       "array([[[0.41247709, 0.98339947],\n",
       "        [0.68420297, 0.0860686 ]],\n",
       "\n",
       "       [[0.67388689, 0.10622353],\n",
       "        [0.91696747, 0.98283504]]])"
      ]
     },
     "execution_count": 2,
     "metadata": {},
     "output_type": "execute_result"
    }
   ],
   "source": [
    "t1.table"
   ]
  },
  {
   "cell_type": "code",
   "execution_count": 3,
   "metadata": {},
   "outputs": [],
   "source": [
    "tables = [t1,t2,t3,t4]\n",
    "def gen_headings(tables):\n",
    "    li = []\n",
    "    for i in tables:\n",
    "        li.extend(i.headings)\n",
    "    h = set(li)\n",
    "    li = {}\n",
    "    for i in h:\n",
    "        x = headings(i)\n",
    "        x.linked_tables = set()\n",
    "        for j in tables:\n",
    "            if i in j.headings:\n",
    "                x.linked_tables.add(j)\n",
    "                x.domain = 2\n",
    "        li[i] = x\n",
    "    return li\n",
    "\n",
    "headings_li = gen_headings(tables)"
   ]
  },
  {
   "cell_type": "code",
   "execution_count": 4,
   "metadata": {},
   "outputs": [
    {
     "name": "stdout",
     "output_type": "stream",
     "text": [
      "ABC\n",
      "AB\n",
      "CD\n",
      "ABC\n",
      "BC\n",
      "CD\n",
      "ABC\n",
      "BC\n",
      "AB\n"
     ]
    }
   ],
   "source": [
    "for i in headings_li:\n",
    "    for j in headings_li[i].linked_tables:\n",
    "        print(j.name)\n",
    "        pass"
   ]
  },
  {
   "cell_type": "code",
   "execution_count": 5,
   "metadata": {},
   "outputs": [],
   "source": [
    "e_v = \"D\"\n",
    "temp_tables = []\n",
    "for i in headings_li:\n",
    "    if headings_li[i].name == e_v:\n",
    "        temp_tables = headings_li[i].linked_tables\n",
    "        break"
   ]
  },
  {
   "cell_type": "code",
   "execution_count": 6,
   "metadata": {},
   "outputs": [
    {
     "name": "stdout",
     "output_type": "stream",
     "text": [
      "CD [[0.29794707 0.41753598]\n",
      " [0.59148629 0.74664165]] \n",
      "---- \n"
     ]
    }
   ],
   "source": [
    "for i in temp_tables:\n",
    "    print(i.name, i.table , \"\\n---- \")"
   ]
  },
  {
   "cell_type": "code",
   "execution_count": 7,
   "metadata": {},
   "outputs": [
    {
     "name": "stdout",
     "output_type": "stream",
     "text": [
      "(0, 0)\n",
      "(0, 1)\n",
      "(1, 0)\n",
      "(1, 1)\n"
     ]
    }
   ],
   "source": [
    "def __init_factor(temp_tables, headings_li):\n",
    "    temp = []\n",
    "    for i in temp_tables:\n",
    "        temp.extend(i.headings)\n",
    "    temp = set(temp)\n",
    "    li = []\n",
    "    for i in temp:\n",
    "        li.append(headings_li[i])\n",
    "        \n",
    "    dimen = []\n",
    "    for i in li:\n",
    "        dimen.append(i.domain)\n",
    "    grid = np.ndindex(tuple(dimen))\n",
    "    \n",
    "    temp_li = {}\n",
    "\n",
    "    for i in temp_tables:\n",
    "        temp_li[i] = []\n",
    "    for i in grid:\n",
    "        x = {}\n",
    "        print(i)\n",
    "        for j,a in enumerate(li):\n",
    "            x[a.name] = i[j]\n",
    "        for j,a in enumerate(temp_tables):\n",
    "            index = []\n",
    "            for k in a.headings:\n",
    "                index.append(x[k])\n",
    "            temp_li[a].append(a.table[tuple(index)])\n",
    "    return temp_li , dimen\n",
    "    \n",
    "temp_li , factor = __init_factor(temp_tables, headings_li)"
   ]
  },
  {
   "cell_type": "code",
   "execution_count": 8,
   "metadata": {},
   "outputs": [
    {
     "name": "stdout",
     "output_type": "stream",
     "text": [
      "CD\n",
      "[0.29794706989273556, 0.5914862852465227, 0.4175359787670758, 0.7466416523133056] \n",
      "\n"
     ]
    }
   ],
   "source": [
    "for i in temp_li:\n",
    "    print(i.name)\n",
    "    print(temp_li[i] , \"\\n\")"
   ]
  },
  {
   "cell_type": "code",
   "execution_count": null,
   "metadata": {},
   "outputs": [],
   "source": []
  }
 ],
 "metadata": {
  "kernelspec": {
   "display_name": "Python 3",
   "language": "python",
   "name": "python3"
  },
  "language_info": {
   "codemirror_mode": {
    "name": "ipython",
    "version": 3
   },
   "file_extension": ".py",
   "mimetype": "text/x-python",
   "name": "python",
   "nbconvert_exporter": "python",
   "pygments_lexer": "ipython3",
   "version": "3.7.5"
  }
 },
 "nbformat": 4,
 "nbformat_minor": 2
}
